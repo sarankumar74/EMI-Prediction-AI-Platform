{
 "cells": [
  {
   "cell_type": "markdown",
   "id": "e98f76f1",
   "metadata": {},
   "source": [
    "1. Import All Packages"
   ]
  },
  {
   "cell_type": "code",
   "execution_count": 1,
   "id": "ad1fd366",
   "metadata": {},
   "outputs": [
    {
     "name": "stdout",
     "output_type": "stream",
     "text": [
      "All Required Package are Imported\n"
     ]
    }
   ],
   "source": [
    "import pickle                                                                    # model save packages\n",
    "import pandas as pd                                                              # pandas structuted package\n",
    "import numpy as np                                                               # numpy number package\n",
    "from sklearn.preprocessing import StandardScaler                                 # data preprocessing \n",
    "from sklearn.preprocessing import LabelEncoder, OneHotEncoder                    # train test model\n",
    "from sklearn.model_selection import train_test_split                             # split 80% train data, 20% test data                                \n",
    "from sklearn.linear_model import LinearRegression,  Ridge, Lasso                 # Regression 1 st models\n",
    "from sklearn.tree import DecisionTreeRegressor                                   # Regression 2 nd models\n",
    "from sklearn.ensemble import RandomForestRegressor                               # Regression 3 rd models\n",
    "from sklearn.metrics import r2_score, mean_squared_error, mean_absolute_error    # check model errors and accuracy  \n",
    "print(\"All Required Package are Imported\")"
   ]
  },
  {
   "cell_type": "markdown",
   "id": "d66b212c",
   "metadata": {},
   "source": [
    "2. Read Csv File"
   ]
  },
  {
   "cell_type": "code",
   "execution_count": 5,
   "metadata": {},
   "outputs": [
    {
     "data": {
      "text/html": [
       "<div>\n",
       "<style scoped>\n",
       "    .dataframe tbody tr th:only-of-type {\n",
       "        vertical-align: middle;\n",
       "    }\n",
       "\n",
       "    .dataframe tbody tr th {\n",
       "        vertical-align: top;\n",
       "    }\n",
       "\n",
       "    .dataframe thead th {\n",
       "        text-align: right;\n",
       "    }\n",
       "</style>\n",
       "<table border=\"1\" class=\"dataframe\">\n",
       "  <thead>\n",
       "    <tr style=\"text-align: right;\">\n",
       "      <th></th>\n",
       "      <th>Age</th>\n",
       "      <th>Gender</th>\n",
       "      <th>Marital Status</th>\n",
       "      <th>Education</th>\n",
       "      <th>Monthly Salary</th>\n",
       "      <th>Employment Type</th>\n",
       "      <th>Years Of Employment</th>\n",
       "      <th>Company Type</th>\n",
       "      <th>House Type</th>\n",
       "      <th>Monthly Rent</th>\n",
       "      <th>...</th>\n",
       "      <th>Existing Loans</th>\n",
       "      <th>Current Emi Amount</th>\n",
       "      <th>Credit Score</th>\n",
       "      <th>Bank Balance</th>\n",
       "      <th>Emergency Fund</th>\n",
       "      <th>Emi Scenario</th>\n",
       "      <th>Requested Amount</th>\n",
       "      <th>Requested Tenure</th>\n",
       "      <th>Emi Eligibility</th>\n",
       "      <th>Max Monthly Emi</th>\n",
       "    </tr>\n",
       "  </thead>\n",
       "  <tbody>\n",
       "    <tr>\n",
       "      <th>0</th>\n",
       "      <td>38.0</td>\n",
       "      <td>Female</td>\n",
       "      <td>Married</td>\n",
       "      <td>Professional</td>\n",
       "      <td>82600.0</td>\n",
       "      <td>Private</td>\n",
       "      <td>0.9</td>\n",
       "      <td>Mid Size</td>\n",
       "      <td>Rented</td>\n",
       "      <td>20000.0</td>\n",
       "      <td>...</td>\n",
       "      <td>Yes</td>\n",
       "      <td>23700.0</td>\n",
       "      <td>660.0</td>\n",
       "      <td>303200.0</td>\n",
       "      <td>70200.0</td>\n",
       "      <td>Personal Loan EMI</td>\n",
       "      <td>850000.0</td>\n",
       "      <td>15</td>\n",
       "      <td>Not Eligible</td>\n",
       "      <td>500.0</td>\n",
       "    </tr>\n",
       "    <tr>\n",
       "      <th>1</th>\n",
       "      <td>38.0</td>\n",
       "      <td>Female</td>\n",
       "      <td>Married</td>\n",
       "      <td>Graduate</td>\n",
       "      <td>21500.0</td>\n",
       "      <td>Private</td>\n",
       "      <td>7.0</td>\n",
       "      <td>MNC</td>\n",
       "      <td>Family</td>\n",
       "      <td>0.0</td>\n",
       "      <td>...</td>\n",
       "      <td>Yes</td>\n",
       "      <td>4100.0</td>\n",
       "      <td>714.0</td>\n",
       "      <td>92500.0</td>\n",
       "      <td>26900.0</td>\n",
       "      <td>E-commerce Shopping EMI</td>\n",
       "      <td>128000.0</td>\n",
       "      <td>19</td>\n",
       "      <td>Not Eligible</td>\n",
       "      <td>700.0</td>\n",
       "    </tr>\n",
       "  </tbody>\n",
       "</table>\n",
       "<p>2 rows × 27 columns</p>\n",
       "</div>"
      ],
      "text/plain": [
       "    Age  Gender Marital Status     Education  Monthly Salary Employment Type  \\\n",
       "0  38.0  Female        Married  Professional         82600.0         Private   \n",
       "1  38.0  Female        Married      Graduate         21500.0         Private   \n",
       "\n",
       "   Years Of Employment Company Type House Type  Monthly Rent  ...  \\\n",
       "0                  0.9     Mid Size     Rented       20000.0  ...   \n",
       "1                  7.0          MNC     Family           0.0  ...   \n",
       "\n",
       "   Existing Loans  Current Emi Amount  Credit Score  Bank Balance  \\\n",
       "0             Yes             23700.0         660.0      303200.0   \n",
       "1             Yes              4100.0         714.0       92500.0   \n",
       "\n",
       "   Emergency Fund             Emi Scenario  Requested Amount Requested Tenure  \\\n",
       "0         70200.0        Personal Loan EMI          850000.0               15   \n",
       "1         26900.0  E-commerce Shopping EMI          128000.0               19   \n",
       "\n",
       "   Emi Eligibility  Max Monthly Emi  \n",
       "0     Not Eligible            500.0  \n",
       "1     Not Eligible            700.0  \n",
       "\n",
       "[2 rows x 27 columns]"
      ]
     },
     "execution_count": 5,
     "metadata": {},
     "output_type": "execute_result"
    }
   ],
   "source": [
    "df = pd.read_csv(\"C:/Users/saran/Desktop/EMI Predictions/EMI Datasets/EMI Prediction Clean.csv\")\n",
    "df.head(2)"
   ]
  },
  {
   "cell_type": "markdown",
   "id": "15c607c9",
   "metadata": {},
   "source": [
    "3. Check the Columns"
   ]
  },
  {
   "cell_type": "code",
   "execution_count": 6,
   "metadata": {},
   "outputs": [
    {
     "data": {
      "text/plain": [
       "Index(['Age', 'Gender', 'Marital Status', 'Education', 'Monthly Salary',\n",
       "       'Employment Type', 'Years Of Employment', 'Company Type', 'House Type',\n",
       "       'Monthly Rent', 'Family Size', 'Dependents', 'School Fees',\n",
       "       'College Fees', 'Travel Expenses', 'Groceries Utilities',\n",
       "       'Other Monthly Expenses', 'Existing Loans', 'Current Emi Amount',\n",
       "       'Credit Score', 'Bank Balance', 'Emergency Fund', 'Emi Scenario',\n",
       "       'Requested Amount', 'Requested Tenure', 'Emi Eligibility',\n",
       "       'Max Monthly Emi'],\n",
       "      dtype='object')"
      ]
     },
     "execution_count": 6,
     "metadata": {},
     "output_type": "execute_result"
    }
   ],
   "source": [
    "df.columns"
   ]
  },
  {
   "cell_type": "markdown",
   "id": "75c4d76f",
   "metadata": {},
   "source": [
    "4. Remove Outerlines."
   ]
  },
  {
   "cell_type": "code",
   "execution_count": 7,
   "id": "76282ce6",
   "metadata": {},
   "outputs": [
    {
     "name": "stdout",
     "output_type": "stream",
     "text": [
      "(387532, 27)\n"
     ]
    }
   ],
   "source": [
    "Q1 = df['Max Monthly Emi'].quantile(0.25)\n",
    "Q3 = df['Max Monthly Emi'].quantile(0.75)\n",
    "IQR = Q3 - Q1\n",
    "\n",
    "df_clean = df[~((df['Max Monthly Emi'] < (Q1 - 1.5*IQR)) | (df['Max Monthly Emi'] > (Q3 + 1.5*IQR)))]\n",
    "print(df_clean.shape)\n"
   ]
  },
  {
   "cell_type": "code",
   "execution_count": 8,
   "id": "7cc9fdc1",
   "metadata": {},
   "outputs": [
    {
     "data": {
      "text/plain": [
       "Index(['Age', 'Gender', 'Marital Status', 'Education', 'Monthly Salary',\n",
       "       'Employment Type', 'Years Of Employment', 'Company Type', 'House Type',\n",
       "       'Monthly Rent', 'Family Size', 'Dependents', 'School Fees',\n",
       "       'College Fees', 'Travel Expenses', 'Groceries Utilities',\n",
       "       'Other Monthly Expenses', 'Existing Loans', 'Current Emi Amount',\n",
       "       'Credit Score', 'Bank Balance', 'Emergency Fund', 'Emi Scenario',\n",
       "       'Requested Amount', 'Requested Tenure', 'Emi Eligibility',\n",
       "       'Max Monthly Emi'],\n",
       "      dtype='object')"
      ]
     },
     "execution_count": 8,
     "metadata": {},
     "output_type": "execute_result"
    }
   ],
   "source": [
    "df.columns"
   ]
  },
  {
   "cell_type": "markdown",
   "id": "6c9b5ad1",
   "metadata": {},
   "source": [
    "5. Split the numerical columns and catagorical columns."
   ]
  },
  {
   "cell_type": "code",
   "execution_count": 9,
   "id": "247d5523",
   "metadata": {},
   "outputs": [],
   "source": [
    "numeric_cols = ['Age', 'Monthly Salary', 'Years Of Employment', 'Monthly Rent', \n",
    "                'Family Size', 'Dependents', 'School Fees', 'College Fees', \n",
    "                'Travel Expenses', 'Groceries Utilities', 'Other Monthly Expenses', \n",
    "                'Existing Loans', 'Current Emi Amount', 'Credit Score', 'Bank Balance', \n",
    "                'Emergency Fund', 'Requested Amount', 'Requested Tenure', 'Max Monthly Emi']\n",
    "\n",
    "categorical_cols = ['Gender', 'Marital Status', 'Education', 'Employment Type', \n",
    "                    'Company Type', 'House Type', 'Emi Scenario', 'Existing Loans', 'Emi Eligibility']\n"
   ]
  },
  {
   "cell_type": "code",
   "execution_count": 10,
   "id": "c4b2aee1",
   "metadata": {},
   "outputs": [],
   "source": [
    "X_encoded = pd.get_dummies(df_clean[numeric_cols + categorical_cols], \n",
    "                           columns=categorical_cols, drop_first=True)"
   ]
  },
  {
   "cell_type": "markdown",
   "id": "bf3d47d2",
   "metadata": {},
   "source": [
    "# Linear Regression Model."
   ]
  },
  {
   "cell_type": "code",
   "execution_count": 11,
   "id": "67b02f5e",
   "metadata": {},
   "outputs": [
    {
     "data": {
      "text/plain": [
       "Index(['Age', 'Monthly Salary', 'Years Of Employment', 'Monthly Rent',\n",
       "       'Family Size', 'Dependents', 'School Fees', 'College Fees',\n",
       "       'Travel Expenses', 'Groceries Utilities', 'Other Monthly Expenses',\n",
       "       'Current Emi Amount', 'Credit Score', 'Bank Balance', 'Emergency Fund',\n",
       "       'Requested Amount', 'Requested Tenure', 'Max Monthly Emi',\n",
       "       'Gender_Male', 'Marital Status_Single', 'Education_High School',\n",
       "       'Education_Post Graduate', 'Education_Professional',\n",
       "       'Employment Type_Private', 'Employment Type_Self-employed',\n",
       "       'Company Type_MNC', 'Company Type_Mid Size', 'Company Type_Small',\n",
       "       'Company Type_Startup', 'House Type_Own', 'House Type_Rented',\n",
       "       'Emi Scenario_Education EMI', 'Emi Scenario_Home Appliances EMI',\n",
       "       'Emi Scenario_Personal Loan EMI', 'Emi Scenario_Vehicle EMI',\n",
       "       'Existing Loans_Yes', 'Existing Loans_Yes', 'Emi Eligibility_High Risk',\n",
       "       'Emi Eligibility_Not Eligible'],\n",
       "      dtype='object')"
      ]
     },
     "execution_count": 11,
     "metadata": {},
     "output_type": "execute_result"
    }
   ],
   "source": [
    "X_encoded.columns"
   ]
  },
  {
   "cell_type": "markdown",
   "id": "7c595edf",
   "metadata": {},
   "source": [
    "6. Split Input and Outputs columns, Train, Test."
   ]
  },
  {
   "cell_type": "code",
   "execution_count": 12,
   "id": "87920e9b",
   "metadata": {},
   "outputs": [],
   "source": [
    "X = X_encoded.drop(['Dependents', 'School Fees', 'College Fees',\n",
    "       'Travel Expenses', 'Groceries Utilities', 'Max Monthly Emi'], axis=1)\n",
    "\n",
    "y = df_clean['Max Monthly Emi']  \n",
    "\n",
    "x_train, x_test, y_train, y_test = train_test_split(X, y, test_size=0.3, random_state=42)\n"
   ]
  },
  {
   "cell_type": "code",
   "execution_count": 150,
   "id": "00dac5f1",
   "metadata": {},
   "outputs": [
    {
     "data": {
      "text/plain": [
       "Index(['Age', 'Monthly Salary', 'Years Of Employment', 'Monthly Rent',\n",
       "       'Family Size', 'Other Monthly Expenses', 'Current Emi Amount',\n",
       "       'Credit Score', 'Bank Balance', 'Emergency Fund', 'Requested Amount',\n",
       "       'Requested Tenure', 'Gender_Male', 'Marital Status_Single',\n",
       "       'Education_High School', 'Education_Post Graduate',\n",
       "       'Education_Professional', 'Employment Type_Private',\n",
       "       'Employment Type_Self-employed', 'Company Type_MNC',\n",
       "       'Company Type_Mid Size', 'Company Type_Small', 'Company Type_Startup',\n",
       "       'House Type_Own', 'House Type_Rented', 'Emi Scenario_Education EMI',\n",
       "       'Emi Scenario_Home Appliances EMI', 'Emi Scenario_Personal Loan EMI',\n",
       "       'Emi Scenario_Vehicle EMI', 'Existing Loans_Yes', 'Existing Loans_Yes',\n",
       "       'Emi Eligibility_High Risk', 'Emi Eligibility_Not Eligible'],\n",
       "      dtype='object')"
      ]
     },
     "execution_count": 150,
     "metadata": {},
     "output_type": "execute_result"
    }
   ],
   "source": [
    "X.columns"
   ]
  },
  {
   "cell_type": "markdown",
   "id": "763047cc",
   "metadata": {},
   "source": [
    "7. Model Selection and Train, Predicted."
   ]
  },
  {
   "cell_type": "code",
   "execution_count": 108,
   "id": "6a54681b",
   "metadata": {},
   "outputs": [],
   "source": [
    "x_train, x_test, y_train, y_test = train_test_split(X, y, test_size=0.3, random_state=42)\n",
    "model = RandomForestRegressor(n_estimators=200, max_depth=10, max_features=100, max_samples=500, max_leaf_nodes=500, min_samples_split=2 ,random_state=42)"
   ]
  },
  {
   "cell_type": "code",
   "execution_count": 109,
   "id": "b8adeb51",
   "metadata": {},
   "outputs": [],
   "source": [
    "model.fit(x_train, y_train)\n",
    "y_predict = model.predict(x_test)"
   ]
  },
  {
   "cell_type": "code",
   "execution_count": 130,
   "id": "3b67738d",
   "metadata": {},
   "outputs": [
    {
     "data": {
      "text/plain": [
       "Index(['Age', 'Monthly Salary', 'Years Of Employment', 'Monthly Rent',\n",
       "       'Family Size', 'Other Monthly Expenses', 'Current Emi Amount',\n",
       "       'Credit Score', 'Bank Balance', 'Emergency Fund', 'Requested Amount',\n",
       "       'Requested Tenure', 'Gender_Male', 'Marital Status_Single',\n",
       "       'Education_High School', 'Education_Post Graduate',\n",
       "       'Education_Professional', 'Employment Type_Private',\n",
       "       'Employment Type_Self-employed', 'Company Type_MNC',\n",
       "       'Company Type_Mid Size', 'Company Type_Small', 'Company Type_Startup',\n",
       "       'House Type_Own', 'House Type_Rented', 'Emi Scenario_Education EMI',\n",
       "       'Emi Scenario_Home Appliances EMI', 'Emi Scenario_Personal Loan EMI',\n",
       "       'Emi Scenario_Vehicle EMI', 'Existing Loans_Yes', 'Existing Loans_Yes',\n",
       "       'Emi Eligibility_High Risk', 'Emi Eligibility_Not Eligible'],\n",
       "      dtype='object')"
      ]
     },
     "execution_count": 130,
     "metadata": {},
     "output_type": "execute_result"
    }
   ],
   "source": [
    "X.columns"
   ]
  },
  {
   "cell_type": "markdown",
   "id": "7ff2fcaf",
   "metadata": {},
   "source": [
    "8. Check the Model Accuracy."
   ]
  },
  {
   "cell_type": "code",
   "execution_count": 111,
   "id": "85dc6a8f",
   "metadata": {},
   "outputs": [
    {
     "name": "stdout",
     "output_type": "stream",
     "text": [
      "R2 Score : 0.6916672652056832\n",
      "Mean Squared Error : 9935244.437215822\n",
      "Mean Absolute Error : 2383.9592897421344\n"
     ]
    }
   ],
   "source": [
    "r2 = r2_score(y_test, y_predict)\n",
    "mse = mean_squared_error(y_test, y_predict)\n",
    "mae = mean_absolute_error(y_test, y_predict)\n",
    "\n",
    "print(f\"R2 Score : {r2}\")\n",
    "print(f\"Mean Squared Error : {mse}\")\n",
    "print(f\"Mean Absolute Error : {mae}\")\n",
    "\n"
   ]
  },
  {
   "cell_type": "markdown",
   "id": "8fb2b012",
   "metadata": {},
   "source": [
    "9. Compared Actual VS Predicted outputs."
   ]
  },
  {
   "cell_type": "code",
   "execution_count": 38,
   "id": "36ccde11",
   "metadata": {},
   "outputs": [
    {
     "data": {
      "text/html": [
       "<div>\n",
       "<style scoped>\n",
       "    .dataframe tbody tr th:only-of-type {\n",
       "        vertical-align: middle;\n",
       "    }\n",
       "\n",
       "    .dataframe tbody tr th {\n",
       "        vertical-align: top;\n",
       "    }\n",
       "\n",
       "    .dataframe thead th {\n",
       "        text-align: right;\n",
       "    }\n",
       "</style>\n",
       "<table border=\"1\" class=\"dataframe\">\n",
       "  <thead>\n",
       "    <tr style=\"text-align: right;\">\n",
       "      <th></th>\n",
       "      <th>Actual</th>\n",
       "      <th>Predicted</th>\n",
       "    </tr>\n",
       "  </thead>\n",
       "  <tbody>\n",
       "    <tr>\n",
       "      <th>20</th>\n",
       "      <td>5950.0</td>\n",
       "      <td>5950.0</td>\n",
       "    </tr>\n",
       "    <tr>\n",
       "      <th>21</th>\n",
       "      <td>500.0</td>\n",
       "      <td>500.0</td>\n",
       "    </tr>\n",
       "    <tr>\n",
       "      <th>22</th>\n",
       "      <td>3355.0</td>\n",
       "      <td>3355.0</td>\n",
       "    </tr>\n",
       "    <tr>\n",
       "      <th>23</th>\n",
       "      <td>23045.0</td>\n",
       "      <td>23045.0</td>\n",
       "    </tr>\n",
       "    <tr>\n",
       "      <th>24</th>\n",
       "      <td>6248.0</td>\n",
       "      <td>6248.0</td>\n",
       "    </tr>\n",
       "    <tr>\n",
       "      <th>25</th>\n",
       "      <td>500.0</td>\n",
       "      <td>500.0</td>\n",
       "    </tr>\n",
       "    <tr>\n",
       "      <th>26</th>\n",
       "      <td>840.0</td>\n",
       "      <td>840.0</td>\n",
       "    </tr>\n",
       "    <tr>\n",
       "      <th>27</th>\n",
       "      <td>8400.0</td>\n",
       "      <td>8400.0</td>\n",
       "    </tr>\n",
       "    <tr>\n",
       "      <th>28</th>\n",
       "      <td>5768.0</td>\n",
       "      <td>5768.0</td>\n",
       "    </tr>\n",
       "    <tr>\n",
       "      <th>29</th>\n",
       "      <td>1640.0</td>\n",
       "      <td>1640.0</td>\n",
       "    </tr>\n",
       "    <tr>\n",
       "      <th>30</th>\n",
       "      <td>500.0</td>\n",
       "      <td>500.0</td>\n",
       "    </tr>\n",
       "    <tr>\n",
       "      <th>31</th>\n",
       "      <td>4235.0</td>\n",
       "      <td>4235.0</td>\n",
       "    </tr>\n",
       "    <tr>\n",
       "      <th>32</th>\n",
       "      <td>5200.0</td>\n",
       "      <td>5200.0</td>\n",
       "    </tr>\n",
       "    <tr>\n",
       "      <th>33</th>\n",
       "      <td>500.0</td>\n",
       "      <td>500.0</td>\n",
       "    </tr>\n",
       "    <tr>\n",
       "      <th>34</th>\n",
       "      <td>500.0</td>\n",
       "      <td>500.0</td>\n",
       "    </tr>\n",
       "  </tbody>\n",
       "</table>\n",
       "</div>"
      ],
      "text/plain": [
       "     Actual  Predicted\n",
       "20   5950.0     5950.0\n",
       "21    500.0      500.0\n",
       "22   3355.0     3355.0\n",
       "23  23045.0    23045.0\n",
       "24   6248.0     6248.0\n",
       "25    500.0      500.0\n",
       "26    840.0      840.0\n",
       "27   8400.0     8400.0\n",
       "28   5768.0     5768.0\n",
       "29   1640.0     1640.0\n",
       "30    500.0      500.0\n",
       "31   4235.0     4235.0\n",
       "32   5200.0     5200.0\n",
       "33    500.0      500.0\n",
       "34    500.0      500.0"
      ]
     },
     "execution_count": 38,
     "metadata": {},
     "output_type": "execute_result"
    }
   ],
   "source": [
    "predicted_values = pd.DataFrame({\n",
    "    'Actual' : y_test.values,\n",
    "    'Predicted' : y_predict\n",
    "})\n",
    "\n",
    "predicted_values.iloc[20:35]"
   ]
  },
  {
   "cell_type": "code",
   "execution_count": 135,
   "id": "1387defa",
   "metadata": {},
   "outputs": [
    {
     "data": {
      "text/plain": [
       "Index(['Age', 'Monthly Salary', 'Years Of Employment', 'Monthly Rent',\n",
       "       'Family Size', 'Other Monthly Expenses', 'Current Emi Amount',\n",
       "       'Credit Score', 'Bank Balance', 'Emergency Fund', 'Requested Amount',\n",
       "       'Requested Tenure', 'Gender_Male', 'Marital Status_Single',\n",
       "       'Education_High School', 'Education_Post Graduate',\n",
       "       'Education_Professional', 'Employment Type_Private',\n",
       "       'Employment Type_Self-employed', 'Company Type_MNC',\n",
       "       'Company Type_Mid Size', 'Company Type_Small', 'Company Type_Startup',\n",
       "       'House Type_Own', 'House Type_Rented', 'Emi Scenario_Education EMI',\n",
       "       'Emi Scenario_Home Appliances EMI', 'Emi Scenario_Personal Loan EMI',\n",
       "       'Emi Scenario_Vehicle EMI', 'Existing Loans_Yes', 'Existing Loans_Yes',\n",
       "       'Emi Eligibility_High Risk', 'Emi Eligibility_Not Eligible'],\n",
       "      dtype='object')"
      ]
     },
     "execution_count": 135,
     "metadata": {},
     "output_type": "execute_result"
    }
   ],
   "source": [
    "X.columns"
   ]
  },
  {
   "cell_type": "markdown",
   "id": "4fc5ca4b",
   "metadata": {},
   "source": [
    "10. Save the  Model. "
   ]
  },
  {
   "cell_type": "code",
   "execution_count": 139,
   "id": "01ef6a2f",
   "metadata": {},
   "outputs": [
    {
     "name": "stdout",
     "output_type": "stream",
     "text": [
      "['Age', 'Monthly Salary', 'Years Of Employment', 'Monthly Rent', 'Family Size', 'Other Monthly Expenses', 'Current Emi Amount', 'Credit Score', 'Bank Balance', 'Emergency Fund', 'Requested Amount', 'Requested Tenure', 'Gender_Male', 'Marital Status_Single', 'Education_High School', 'Education_Post Graduate', 'Education_Professional', 'Employment Type_Private', 'Employment Type_Self-employed', 'Company Type_MNC', 'Company Type_Mid Size', 'Company Type_Small', 'Company Type_Startup', 'House Type_Own', 'House Type_Rented', 'Emi Scenario_Education EMI', 'Emi Scenario_Home Appliances EMI', 'Emi Scenario_Personal Loan EMI', 'Emi Scenario_Vehicle EMI', 'Existing Loans_Yes', 'Existing Loans_Yes', 'Emi Eligibility_High Risk', 'Emi Eligibility_Not Eligible']\n"
     ]
    }
   ],
   "source": [
    "model_columns = x_train.columns.tolist()  # list of columns used to train the model\n",
    "print(model_columns)"
   ]
  },
  {
   "cell_type": "code",
   "execution_count": 131,
   "id": "8574739f",
   "metadata": {},
   "outputs": [
    {
     "name": "stdout",
     "output_type": "stream",
     "text": [
      "✅ Model saved\n"
     ]
    }
   ],
   "source": [
    "with open(\"EMI Regression Model.pkl\", \"wb\") as file:\n",
    "    pickle.dump(model, file)\n",
    "\n",
    "print(\"✅ Model saved\")"
   ]
  },
  {
   "cell_type": "markdown",
   "id": "305b27c2",
   "metadata": {},
   "source": [
    "# RandomForest Regression Model."
   ]
  },
  {
   "cell_type": "markdown",
   "id": "bee54662",
   "metadata": {},
   "source": [
    "1. Split the catagorical columns and numerical columns."
   ]
  },
  {
   "cell_type": "code",
   "execution_count": 14,
   "id": "12666965",
   "metadata": {},
   "outputs": [],
   "source": [
    "numeric_cols = ['Age', 'Monthly Salary', 'Years Of Employment', 'Monthly Rent', \n",
    "                'Family Size', 'Dependents', 'School Fees', 'College Fees', \n",
    "                'Travel Expenses', 'Groceries Utilities', 'Other Monthly Expenses', \n",
    "                'Existing Loans', 'Current Emi Amount', 'Credit Score', 'Bank Balance', \n",
    "                'Emergency Fund', 'Requested Amount', 'Requested Tenure', \n",
    "                 'Max Monthly Emi']\n",
    "\n",
    "categorical_cols = ['Gender', 'Marital Status', 'Education', 'Employment Type', \n",
    "                    'Company Type', 'House Type', 'Emi Scenario', 'Existing Loans', 'Emi Eligibility']"
   ]
  },
  {
   "cell_type": "code",
   "execution_count": 15,
   "id": "e39b74cd",
   "metadata": {},
   "outputs": [],
   "source": [
    "X_encoded = pd.get_dummies(df_clean[numeric_cols + categorical_cols], \n",
    "                           columns=categorical_cols, drop_first=True)"
   ]
  },
  {
   "cell_type": "markdown",
   "id": "cd30fca2",
   "metadata": {},
   "source": [
    "2. Split data in train, test and Model Selection."
   ]
  },
  {
   "cell_type": "code",
   "execution_count": 16,
   "id": "d203f8d9",
   "metadata": {},
   "outputs": [],
   "source": [
    "x_train, x_test, y_train, y_test = train_test_split(X, y, test_size=0.3, random_state=42)\n",
    "model = RandomForestRegressor(n_estimators=100, random_state=42, n_jobs=-1)\n"
   ]
  },
  {
   "cell_type": "markdown",
   "id": "d8f53a6b",
   "metadata": {},
   "source": [
    "3. Model Train, Predict."
   ]
  },
  {
   "cell_type": "code",
   "execution_count": 17,
   "id": "d30a59a9",
   "metadata": {},
   "outputs": [],
   "source": [
    "X = X_encoded.drop(['Dependents', 'School Fees', 'College Fees', 'Travel Expenses', 'Groceries Utilities', 'Emergency Fund', 'Requested Tenure', 'Emi Eligibility_High Risk',\n",
    "       'Emi Eligibility_Not Eligible', 'Emi Eligibility_High Risk', 'Emi Eligibility_Not Eligible'], axis=1)\n",
    "\n",
    "y = df_clean['Max Monthly Emi']  \n",
    "\n",
    "x_train, x_test, y_train, y_test = train_test_split(X, y, test_size=0.3, random_state=42)"
   ]
  },
  {
   "cell_type": "code",
   "execution_count": 18,
   "metadata": {},
   "outputs": [],
   "source": [
    "model.fit(x_train, y_train)\n",
    "y_predict = model.predict(x_test)\n"
   ]
  },
  {
   "cell_type": "markdown",
   "id": "3bff2fc3",
   "metadata": {},
   "source": [
    "4. Test model accuracy and errors."
   ]
  },
  {
   "cell_type": "code",
   "execution_count": 20,
   "id": "ba3f21f8",
   "metadata": {},
   "outputs": [
    {
     "name": "stdout",
     "output_type": "stream",
     "text": [
      "R2 Score: 0.999999998663421\n",
      "Mean Squared Error: 0.04306788581199379\n",
      "Mean Absolute Error: 0.03543104765205845\n"
     ]
    }
   ],
   "source": [
    "r2 = r2_score(y_test, y_predict)\n",
    "mse = mean_squared_error(y_test, y_predict)\n",
    "mae = mean_absolute_error(y_test, y_predict)\n",
    "print(f\"R2 Score: {r2}\")\n",
    "print(f\"Mean Squared Error: {mse}\")\n",
    "print(f\"Mean Absolute Error: {mae}\")"
   ]
  },
  {
   "cell_type": "markdown",
   "id": "0631bd6b",
   "metadata": {},
   "source": [
    "5. Compared Actual output VS Predicted output."
   ]
  },
  {
   "cell_type": "code",
   "execution_count": 21,
   "id": "8138d805",
   "metadata": {},
   "outputs": [
    {
     "data": {
      "text/html": [
       "<div>\n",
       "<style scoped>\n",
       "    .dataframe tbody tr th:only-of-type {\n",
       "        vertical-align: middle;\n",
       "    }\n",
       "\n",
       "    .dataframe tbody tr th {\n",
       "        vertical-align: top;\n",
       "    }\n",
       "\n",
       "    .dataframe thead th {\n",
       "        text-align: right;\n",
       "    }\n",
       "</style>\n",
       "<table border=\"1\" class=\"dataframe\">\n",
       "  <thead>\n",
       "    <tr style=\"text-align: right;\">\n",
       "      <th></th>\n",
       "      <th>Actual</th>\n",
       "      <th>Prediction</th>\n",
       "    </tr>\n",
       "  </thead>\n",
       "  <tbody>\n",
       "    <tr>\n",
       "      <th>10</th>\n",
       "      <td>7400.0</td>\n",
       "      <td>7400.0000</td>\n",
       "    </tr>\n",
       "    <tr>\n",
       "      <th>11</th>\n",
       "      <td>6112.0</td>\n",
       "      <td>6111.9500</td>\n",
       "    </tr>\n",
       "    <tr>\n",
       "      <th>12</th>\n",
       "      <td>500.0</td>\n",
       "      <td>500.0000</td>\n",
       "    </tr>\n",
       "    <tr>\n",
       "      <th>13</th>\n",
       "      <td>500.0</td>\n",
       "      <td>500.0000</td>\n",
       "    </tr>\n",
       "    <tr>\n",
       "      <th>14</th>\n",
       "      <td>10450.0</td>\n",
       "      <td>10450.0000</td>\n",
       "    </tr>\n",
       "    <tr>\n",
       "      <th>15</th>\n",
       "      <td>5100.0</td>\n",
       "      <td>5100.0000</td>\n",
       "    </tr>\n",
       "    <tr>\n",
       "      <th>16</th>\n",
       "      <td>500.0</td>\n",
       "      <td>500.0000</td>\n",
       "    </tr>\n",
       "    <tr>\n",
       "      <th>17</th>\n",
       "      <td>6627.6</td>\n",
       "      <td>6628.2440</td>\n",
       "    </tr>\n",
       "    <tr>\n",
       "      <th>18</th>\n",
       "      <td>4315.5</td>\n",
       "      <td>4315.4298</td>\n",
       "    </tr>\n",
       "    <tr>\n",
       "      <th>19</th>\n",
       "      <td>500.0</td>\n",
       "      <td>500.0000</td>\n",
       "    </tr>\n",
       "    <tr>\n",
       "      <th>20</th>\n",
       "      <td>5950.0</td>\n",
       "      <td>5950.0000</td>\n",
       "    </tr>\n",
       "    <tr>\n",
       "      <th>21</th>\n",
       "      <td>500.0</td>\n",
       "      <td>500.0000</td>\n",
       "    </tr>\n",
       "    <tr>\n",
       "      <th>22</th>\n",
       "      <td>3355.0</td>\n",
       "      <td>3355.0000</td>\n",
       "    </tr>\n",
       "    <tr>\n",
       "      <th>23</th>\n",
       "      <td>23045.0</td>\n",
       "      <td>23045.5500</td>\n",
       "    </tr>\n",
       "    <tr>\n",
       "      <th>24</th>\n",
       "      <td>6248.0</td>\n",
       "      <td>6248.0000</td>\n",
       "    </tr>\n",
       "  </tbody>\n",
       "</table>\n",
       "</div>"
      ],
      "text/plain": [
       "     Actual  Prediction\n",
       "10   7400.0   7400.0000\n",
       "11   6112.0   6111.9500\n",
       "12    500.0    500.0000\n",
       "13    500.0    500.0000\n",
       "14  10450.0  10450.0000\n",
       "15   5100.0   5100.0000\n",
       "16    500.0    500.0000\n",
       "17   6627.6   6628.2440\n",
       "18   4315.5   4315.4298\n",
       "19    500.0    500.0000\n",
       "20   5950.0   5950.0000\n",
       "21    500.0    500.0000\n",
       "22   3355.0   3355.0000\n",
       "23  23045.0  23045.5500\n",
       "24   6248.0   6248.0000"
      ]
     },
     "execution_count": 21,
     "metadata": {},
     "output_type": "execute_result"
    }
   ],
   "source": [
    "prediction = pd.DataFrame(\n",
    "    {\n",
    "        'Actual' : y_test.values,\n",
    "        'Prediction' : y_predict\n",
    "    }\n",
    ")\n",
    "\n",
    "prediction_df = prediction.reset_index(drop=True)\n",
    "prediction_df.iloc[10:25]"
   ]
  },
  {
   "cell_type": "markdown",
   "id": "a607df1d",
   "metadata": {},
   "source": [
    "# Decision Tree Regressor."
   ]
  },
  {
   "cell_type": "markdown",
   "id": "f3b6dad4",
   "metadata": {},
   "source": [
    "1. Split Categorical and Numerical Columns."
   ]
  },
  {
   "cell_type": "code",
   "execution_count": 25,
   "id": "5b119ce6",
   "metadata": {},
   "outputs": [],
   "source": [
    "numeric_cols = ['Age', 'Monthly Salary', 'Years Of Employment', 'Monthly Rent', \n",
    "                'Family Size', 'Dependents', 'School Fees', 'College Fees', \n",
    "                'Travel Expenses', 'Groceries Utilities', 'Other Monthly Expenses', \n",
    "                'Existing Loans', 'Current Emi Amount', 'Credit Score', 'Bank Balance', \n",
    "                'Emergency Fund', 'Requested Amount', 'Requested Tenure', \n",
    "                'Emi Eligibility', 'Max Monthly Emi']\n",
    "\n",
    "categorical_cols = ['Gender', 'Marital Status', 'Education', 'Employment Type', \n",
    "                    'Company Type', 'House Type', 'Emi Scenario', 'Existing Loans', 'Emi Eligibility']"
   ]
  },
  {
   "cell_type": "code",
   "execution_count": 26,
   "id": "e4f92668",
   "metadata": {},
   "outputs": [],
   "source": [
    "X_encoded = pd.get_dummies(df_clean[numeric_cols + categorical_cols], \n",
    "                           columns=categorical_cols, drop_first=True)"
   ]
  },
  {
   "cell_type": "markdown",
   "id": "c09692ec",
   "metadata": {},
   "source": [
    "2. Split Train and Test Data."
   ]
  },
  {
   "cell_type": "code",
   "execution_count": 27,
   "id": "327101b8",
   "metadata": {},
   "outputs": [],
   "source": [
    "x_train, x_test, y_train, y_test = train_test_split(X_encoded, y, test_size=0.3, random_state=42)\n",
    "\n"
   ]
  },
  {
   "cell_type": "markdown",
   "id": "aa1110cd",
   "metadata": {},
   "source": [
    "3. Model Choose, Model train and Predict."
   ]
  },
  {
   "cell_type": "code",
   "execution_count": 13,
   "id": "41f568f7",
   "metadata": {},
   "outputs": [],
   "source": [
    "model = DecisionTreeRegressor()\n",
    "model.fit(x_train, y_train)\n",
    "y_predict = model.predict(x_test)"
   ]
  },
  {
   "cell_type": "markdown",
   "id": "964f7df0",
   "metadata": {},
   "source": [
    "4. Check model accuracy."
   ]
  },
  {
   "cell_type": "code",
   "execution_count": 14,
   "id": "52e17e4f",
   "metadata": {},
   "outputs": [
    {
     "name": "stdout",
     "output_type": "stream",
     "text": [
      "R2 Score: 0.9999999966458741\n",
      "Mean Squared Error: 0.1080782418716698\n",
      "Mean Absolute Error: 0.03310837777402649\n"
     ]
    }
   ],
   "source": [
    "r2 = r2_score(y_test, y_predict)\n",
    "mse = mean_squared_error(y_test, y_predict)\n",
    "mae = mean_absolute_error(y_test, y_predict)\n",
    "print(f\"R2 Score: {r2}\")\n",
    "print(f\"Mean Squared Error: {mse}\")\n",
    "print(f\"Mean Absolute Error: {mae}\")"
   ]
  },
  {
   "cell_type": "markdown",
   "id": "adc40c5c",
   "metadata": {},
   "source": [
    "5. Actual VS predict."
   ]
  },
  {
   "cell_type": "code",
   "execution_count": 15,
   "id": "400fea7e",
   "metadata": {},
   "outputs": [
    {
     "data": {
      "text/html": [
       "<div>\n",
       "<style scoped>\n",
       "    .dataframe tbody tr th:only-of-type {\n",
       "        vertical-align: middle;\n",
       "    }\n",
       "\n",
       "    .dataframe tbody tr th {\n",
       "        vertical-align: top;\n",
       "    }\n",
       "\n",
       "    .dataframe thead th {\n",
       "        text-align: right;\n",
       "    }\n",
       "</style>\n",
       "<table border=\"1\" class=\"dataframe\">\n",
       "  <thead>\n",
       "    <tr style=\"text-align: right;\">\n",
       "      <th></th>\n",
       "      <th>Actual</th>\n",
       "      <th>Prediction</th>\n",
       "    </tr>\n",
       "  </thead>\n",
       "  <tbody>\n",
       "    <tr>\n",
       "      <th>10</th>\n",
       "      <td>7400.0</td>\n",
       "      <td>7400.0</td>\n",
       "    </tr>\n",
       "    <tr>\n",
       "      <th>11</th>\n",
       "      <td>6112.0</td>\n",
       "      <td>6112.0</td>\n",
       "    </tr>\n",
       "    <tr>\n",
       "      <th>12</th>\n",
       "      <td>500.0</td>\n",
       "      <td>500.0</td>\n",
       "    </tr>\n",
       "    <tr>\n",
       "      <th>13</th>\n",
       "      <td>500.0</td>\n",
       "      <td>500.0</td>\n",
       "    </tr>\n",
       "    <tr>\n",
       "      <th>14</th>\n",
       "      <td>10450.0</td>\n",
       "      <td>10450.0</td>\n",
       "    </tr>\n",
       "    <tr>\n",
       "      <th>15</th>\n",
       "      <td>5100.0</td>\n",
       "      <td>5100.0</td>\n",
       "    </tr>\n",
       "    <tr>\n",
       "      <th>16</th>\n",
       "      <td>500.0</td>\n",
       "      <td>500.0</td>\n",
       "    </tr>\n",
       "    <tr>\n",
       "      <th>17</th>\n",
       "      <td>6627.6</td>\n",
       "      <td>6627.6</td>\n",
       "    </tr>\n",
       "    <tr>\n",
       "      <th>18</th>\n",
       "      <td>4315.5</td>\n",
       "      <td>4315.5</td>\n",
       "    </tr>\n",
       "    <tr>\n",
       "      <th>19</th>\n",
       "      <td>500.0</td>\n",
       "      <td>500.0</td>\n",
       "    </tr>\n",
       "    <tr>\n",
       "      <th>20</th>\n",
       "      <td>5950.0</td>\n",
       "      <td>5950.0</td>\n",
       "    </tr>\n",
       "    <tr>\n",
       "      <th>21</th>\n",
       "      <td>500.0</td>\n",
       "      <td>500.0</td>\n",
       "    </tr>\n",
       "    <tr>\n",
       "      <th>22</th>\n",
       "      <td>3355.0</td>\n",
       "      <td>3355.0</td>\n",
       "    </tr>\n",
       "    <tr>\n",
       "      <th>23</th>\n",
       "      <td>23045.0</td>\n",
       "      <td>23045.0</td>\n",
       "    </tr>\n",
       "    <tr>\n",
       "      <th>24</th>\n",
       "      <td>6248.0</td>\n",
       "      <td>6248.0</td>\n",
       "    </tr>\n",
       "    <tr>\n",
       "      <th>25</th>\n",
       "      <td>500.0</td>\n",
       "      <td>500.0</td>\n",
       "    </tr>\n",
       "    <tr>\n",
       "      <th>26</th>\n",
       "      <td>840.0</td>\n",
       "      <td>840.0</td>\n",
       "    </tr>\n",
       "    <tr>\n",
       "      <th>27</th>\n",
       "      <td>8400.0</td>\n",
       "      <td>8400.0</td>\n",
       "    </tr>\n",
       "    <tr>\n",
       "      <th>28</th>\n",
       "      <td>5768.0</td>\n",
       "      <td>5768.0</td>\n",
       "    </tr>\n",
       "    <tr>\n",
       "      <th>29</th>\n",
       "      <td>1640.0</td>\n",
       "      <td>1640.0</td>\n",
       "    </tr>\n",
       "    <tr>\n",
       "      <th>30</th>\n",
       "      <td>500.0</td>\n",
       "      <td>500.0</td>\n",
       "    </tr>\n",
       "    <tr>\n",
       "      <th>31</th>\n",
       "      <td>4235.0</td>\n",
       "      <td>4235.0</td>\n",
       "    </tr>\n",
       "    <tr>\n",
       "      <th>32</th>\n",
       "      <td>5200.0</td>\n",
       "      <td>5200.0</td>\n",
       "    </tr>\n",
       "    <tr>\n",
       "      <th>33</th>\n",
       "      <td>500.0</td>\n",
       "      <td>500.0</td>\n",
       "    </tr>\n",
       "    <tr>\n",
       "      <th>34</th>\n",
       "      <td>500.0</td>\n",
       "      <td>500.0</td>\n",
       "    </tr>\n",
       "    <tr>\n",
       "      <th>35</th>\n",
       "      <td>500.0</td>\n",
       "      <td>500.0</td>\n",
       "    </tr>\n",
       "    <tr>\n",
       "      <th>36</th>\n",
       "      <td>3181.5</td>\n",
       "      <td>3181.5</td>\n",
       "    </tr>\n",
       "    <tr>\n",
       "      <th>37</th>\n",
       "      <td>500.0</td>\n",
       "      <td>500.0</td>\n",
       "    </tr>\n",
       "    <tr>\n",
       "      <th>38</th>\n",
       "      <td>500.0</td>\n",
       "      <td>500.0</td>\n",
       "    </tr>\n",
       "    <tr>\n",
       "      <th>39</th>\n",
       "      <td>500.0</td>\n",
       "      <td>500.0</td>\n",
       "    </tr>\n",
       "    <tr>\n",
       "      <th>40</th>\n",
       "      <td>500.0</td>\n",
       "      <td>500.0</td>\n",
       "    </tr>\n",
       "    <tr>\n",
       "      <th>41</th>\n",
       "      <td>604.8</td>\n",
       "      <td>604.8</td>\n",
       "    </tr>\n",
       "    <tr>\n",
       "      <th>42</th>\n",
       "      <td>18895.8</td>\n",
       "      <td>18892.8</td>\n",
       "    </tr>\n",
       "    <tr>\n",
       "      <th>43</th>\n",
       "      <td>2030.4</td>\n",
       "      <td>2030.4</td>\n",
       "    </tr>\n",
       "    <tr>\n",
       "      <th>44</th>\n",
       "      <td>500.0</td>\n",
       "      <td>500.0</td>\n",
       "    </tr>\n",
       "    <tr>\n",
       "      <th>45</th>\n",
       "      <td>20515.0</td>\n",
       "      <td>20515.0</td>\n",
       "    </tr>\n",
       "    <tr>\n",
       "      <th>46</th>\n",
       "      <td>4488.0</td>\n",
       "      <td>4488.0</td>\n",
       "    </tr>\n",
       "    <tr>\n",
       "      <th>47</th>\n",
       "      <td>4956.0</td>\n",
       "      <td>4956.0</td>\n",
       "    </tr>\n",
       "    <tr>\n",
       "      <th>48</th>\n",
       "      <td>14414.4</td>\n",
       "      <td>14414.4</td>\n",
       "    </tr>\n",
       "    <tr>\n",
       "      <th>49</th>\n",
       "      <td>500.0</td>\n",
       "      <td>500.0</td>\n",
       "    </tr>\n",
       "    <tr>\n",
       "      <th>50</th>\n",
       "      <td>12900.0</td>\n",
       "      <td>12900.0</td>\n",
       "    </tr>\n",
       "    <tr>\n",
       "      <th>51</th>\n",
       "      <td>1850.0</td>\n",
       "      <td>1850.0</td>\n",
       "    </tr>\n",
       "    <tr>\n",
       "      <th>52</th>\n",
       "      <td>500.0</td>\n",
       "      <td>500.0</td>\n",
       "    </tr>\n",
       "    <tr>\n",
       "      <th>53</th>\n",
       "      <td>500.0</td>\n",
       "      <td>500.0</td>\n",
       "    </tr>\n",
       "    <tr>\n",
       "      <th>54</th>\n",
       "      <td>500.0</td>\n",
       "      <td>500.0</td>\n",
       "    </tr>\n",
       "  </tbody>\n",
       "</table>\n",
       "</div>"
      ],
      "text/plain": [
       "     Actual  Prediction\n",
       "10   7400.0      7400.0\n",
       "11   6112.0      6112.0\n",
       "12    500.0       500.0\n",
       "13    500.0       500.0\n",
       "14  10450.0     10450.0\n",
       "15   5100.0      5100.0\n",
       "16    500.0       500.0\n",
       "17   6627.6      6627.6\n",
       "18   4315.5      4315.5\n",
       "19    500.0       500.0\n",
       "20   5950.0      5950.0\n",
       "21    500.0       500.0\n",
       "22   3355.0      3355.0\n",
       "23  23045.0     23045.0\n",
       "24   6248.0      6248.0\n",
       "25    500.0       500.0\n",
       "26    840.0       840.0\n",
       "27   8400.0      8400.0\n",
       "28   5768.0      5768.0\n",
       "29   1640.0      1640.0\n",
       "30    500.0       500.0\n",
       "31   4235.0      4235.0\n",
       "32   5200.0      5200.0\n",
       "33    500.0       500.0\n",
       "34    500.0       500.0\n",
       "35    500.0       500.0\n",
       "36   3181.5      3181.5\n",
       "37    500.0       500.0\n",
       "38    500.0       500.0\n",
       "39    500.0       500.0\n",
       "40    500.0       500.0\n",
       "41    604.8       604.8\n",
       "42  18895.8     18892.8\n",
       "43   2030.4      2030.4\n",
       "44    500.0       500.0\n",
       "45  20515.0     20515.0\n",
       "46   4488.0      4488.0\n",
       "47   4956.0      4956.0\n",
       "48  14414.4     14414.4\n",
       "49    500.0       500.0\n",
       "50  12900.0     12900.0\n",
       "51   1850.0      1850.0\n",
       "52    500.0       500.0\n",
       "53    500.0       500.0\n",
       "54    500.0       500.0"
      ]
     },
     "execution_count": 15,
     "metadata": {},
     "output_type": "execute_result"
    }
   ],
   "source": [
    "prediction = pd.DataFrame(\n",
    "    {\n",
    "        'Actual' : y_test.values,\n",
    "        'Prediction' : y_predict\n",
    "    }\n",
    ")\n",
    "\n",
    "prediction_df = prediction.reset_index(drop=True)\n",
    "prediction_df.iloc[10:55]"
   ]
  },
  {
   "cell_type": "code",
   "execution_count": 19,
   "id": "833f5cfa",
   "metadata": {},
   "outputs": [
    {
     "name": "stdout",
     "output_type": "stream",
     "text": [
      "✅ Model saved\n"
     ]
    }
   ],
   "source": [
    "with open(\"EMI Regression Model.pkl\", \"wb\") as file:\n",
    "    pickle.dump(model, file)\n",
    "   \n",
    "print(\"✅ Model saved\")"
   ]
  }
 ],
 "metadata": {
  "kernelspec": {
   "display_name": "Python 3",
   "language": "python",
   "name": "python3"
  },
  "language_info": {
   "codemirror_mode": {
    "name": "ipython",
    "version": 3
   },
   "file_extension": ".py",
   "mimetype": "text/x-python",
   "name": "python",
   "nbconvert_exporter": "python",
   "pygments_lexer": "ipython3",
   "version": "3.13.5"
  }
 },
 "nbformat": 4,
 "nbformat_minor": 5
}
