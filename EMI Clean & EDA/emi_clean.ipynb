{
 "cells": [
  {
   "cell_type": "markdown",
   "id": "68cf6d9b",
   "metadata": {},
   "source": [
    "Import the required Librays."
   ]
  },
  {
   "cell_type": "code",
   "execution_count": 1,
   "id": "cb37d0ac",
   "metadata": {},
   "outputs": [
    {
     "name": "stdout",
     "output_type": "stream",
     "text": [
      "All Packages Imported\n"
     ]
    }
   ],
   "source": [
    "import pandas as pd\n",
    "import matplotlib.pyplot as plt\n",
    "import seaborn as sns\n",
    "print(\"All Packages Imported\")"
   ]
  },
  {
   "cell_type": "markdown",
   "id": "1af7cdf4",
   "metadata": {},
   "source": [
    "Load and Read CSV Files."
   ]
  },
  {
   "cell_type": "code",
   "execution_count": 2,
   "id": "e67db4da",
   "metadata": {},
   "outputs": [
    {
     "name": "stderr",
     "output_type": "stream",
     "text": [
      "C:\\Users\\saran\\AppData\\Local\\Temp\\ipykernel_14920\\1988931906.py:1: DtypeWarning: Columns (0) have mixed types. Specify dtype option on import or set low_memory=False.\n",
      "  emi = pd.read_csv(\"emi_prediction.csv\")\n"
     ]
    },
    {
     "data": {
      "text/html": [
       "<div>\n",
       "<style scoped>\n",
       "    .dataframe tbody tr th:only-of-type {\n",
       "        vertical-align: middle;\n",
       "    }\n",
       "\n",
       "    .dataframe tbody tr th {\n",
       "        vertical-align: top;\n",
       "    }\n",
       "\n",
       "    .dataframe thead th {\n",
       "        text-align: right;\n",
       "    }\n",
       "</style>\n",
       "<table border=\"1\" class=\"dataframe\">\n",
       "  <thead>\n",
       "    <tr style=\"text-align: right;\">\n",
       "      <th></th>\n",
       "      <th>age</th>\n",
       "      <th>gender</th>\n",
       "      <th>marital_status</th>\n",
       "      <th>education</th>\n",
       "      <th>monthly_salary</th>\n",
       "      <th>employment_type</th>\n",
       "      <th>years_of_employment</th>\n",
       "      <th>company_type</th>\n",
       "      <th>house_type</th>\n",
       "      <th>monthly_rent</th>\n",
       "      <th>...</th>\n",
       "      <th>existing_loans</th>\n",
       "      <th>current_emi_amount</th>\n",
       "      <th>credit_score</th>\n",
       "      <th>bank_balance</th>\n",
       "      <th>emergency_fund</th>\n",
       "      <th>emi_scenario</th>\n",
       "      <th>requested_amount</th>\n",
       "      <th>requested_tenure</th>\n",
       "      <th>emi_eligibility</th>\n",
       "      <th>max_monthly_emi</th>\n",
       "    </tr>\n",
       "  </thead>\n",
       "  <tbody>\n",
       "    <tr>\n",
       "      <th>0</th>\n",
       "      <td>38.0</td>\n",
       "      <td>Female</td>\n",
       "      <td>Married</td>\n",
       "      <td>Professional</td>\n",
       "      <td>82600.0</td>\n",
       "      <td>Private</td>\n",
       "      <td>0.9</td>\n",
       "      <td>Mid-size</td>\n",
       "      <td>Rented</td>\n",
       "      <td>20000.0</td>\n",
       "      <td>...</td>\n",
       "      <td>Yes</td>\n",
       "      <td>23700.0</td>\n",
       "      <td>660.0</td>\n",
       "      <td>303200.0</td>\n",
       "      <td>70200.0</td>\n",
       "      <td>Personal Loan EMI</td>\n",
       "      <td>850000.0</td>\n",
       "      <td>15</td>\n",
       "      <td>Not_Eligible</td>\n",
       "      <td>500.0</td>\n",
       "    </tr>\n",
       "    <tr>\n",
       "      <th>1</th>\n",
       "      <td>38.0</td>\n",
       "      <td>Female</td>\n",
       "      <td>Married</td>\n",
       "      <td>Graduate</td>\n",
       "      <td>21500.0</td>\n",
       "      <td>Private</td>\n",
       "      <td>7.0</td>\n",
       "      <td>MNC</td>\n",
       "      <td>Family</td>\n",
       "      <td>0.0</td>\n",
       "      <td>...</td>\n",
       "      <td>Yes</td>\n",
       "      <td>4100.0</td>\n",
       "      <td>714.0</td>\n",
       "      <td>92500.0</td>\n",
       "      <td>26900.0</td>\n",
       "      <td>E-commerce Shopping EMI</td>\n",
       "      <td>128000.0</td>\n",
       "      <td>19</td>\n",
       "      <td>Not_Eligible</td>\n",
       "      <td>700.0</td>\n",
       "    </tr>\n",
       "  </tbody>\n",
       "</table>\n",
       "<p>2 rows × 27 columns</p>\n",
       "</div>"
      ],
      "text/plain": [
       "    age  gender marital_status     education monthly_salary employment_type  \\\n",
       "0  38.0  Female        Married  Professional        82600.0         Private   \n",
       "1  38.0  Female        Married      Graduate        21500.0         Private   \n",
       "\n",
       "   years_of_employment company_type house_type  monthly_rent  ...  \\\n",
       "0                  0.9     Mid-size     Rented       20000.0  ...   \n",
       "1                  7.0          MNC     Family           0.0  ...   \n",
       "\n",
       "   existing_loans  current_emi_amount  credit_score  bank_balance  \\\n",
       "0             Yes             23700.0         660.0      303200.0   \n",
       "1             Yes              4100.0         714.0       92500.0   \n",
       "\n",
       "   emergency_fund             emi_scenario  requested_amount requested_tenure  \\\n",
       "0         70200.0        Personal Loan EMI          850000.0               15   \n",
       "1         26900.0  E-commerce Shopping EMI          128000.0               19   \n",
       "\n",
       "   emi_eligibility  max_monthly_emi  \n",
       "0     Not_Eligible            500.0  \n",
       "1     Not_Eligible            700.0  \n",
       "\n",
       "[2 rows x 27 columns]"
      ]
     },
     "execution_count": 2,
     "metadata": {},
     "output_type": "execute_result"
    }
   ],
   "source": [
    "emi = pd.read_csv(\"emi_prediction.csv\")\n",
    "emi.head(2)"
   ]
  },
  {
   "cell_type": "code",
   "execution_count": 3,
   "id": "c0f1e1b8",
   "metadata": {},
   "outputs": [
    {
     "data": {
      "text/plain": [
       "Index(['age', 'gender', 'marital_status', 'education', 'monthly_salary',\n",
       "       'employment_type', 'years_of_employment', 'company_type', 'house_type',\n",
       "       'monthly_rent', 'family_size', 'dependents', 'school_fees',\n",
       "       'college_fees', 'travel_expenses', 'groceries_utilities',\n",
       "       'other_monthly_expenses', 'existing_loans', 'current_emi_amount',\n",
       "       'credit_score', 'bank_balance', 'emergency_fund', 'emi_scenario',\n",
       "       'requested_amount', 'requested_tenure', 'emi_eligibility',\n",
       "       'max_monthly_emi'],\n",
       "      dtype='object')"
      ]
     },
     "execution_count": 3,
     "metadata": {},
     "output_type": "execute_result"
    }
   ],
   "source": [
    "emi.columns"
   ]
  },
  {
   "cell_type": "markdown",
   "id": "fcb80803",
   "metadata": {},
   "source": [
    "Check the Datasets Describe."
   ]
  },
  {
   "cell_type": "code",
   "execution_count": 4,
   "id": "3f9c5724",
   "metadata": {},
   "outputs": [
    {
     "data": {
      "text/plain": [
       "<bound method NDFrame.describe of          age  gender marital_status      education monthly_salary  \\\n",
       "0       38.0  Female        Married   Professional        82600.0   \n",
       "1       38.0  Female        Married       Graduate        21500.0   \n",
       "2       38.0    Male        Married   Professional        86100.0   \n",
       "3       58.0  Female        Married    High School        66800.0   \n",
       "4       48.0  Female        Married   Professional        57300.0   \n",
       "...      ...     ...            ...            ...            ...   \n",
       "404795  27.0    Male        Married       Graduate        32400.0   \n",
       "404796  38.0    Male        Married  Post Graduate        49200.0   \n",
       "404797  32.0    Male         Single       Graduate        25700.0   \n",
       "404798  48.0    Male        Married       Graduate        47200.0   \n",
       "404799  38.0  FEMALE        Married       Graduate        34900.0   \n",
       "\n",
       "       employment_type  years_of_employment  company_type house_type  \\\n",
       "0              Private                  0.9      Mid-size     Rented   \n",
       "1              Private                  7.0           MNC     Family   \n",
       "2              Private                  5.8       Startup        Own   \n",
       "3              Private                  2.2      Mid-size        Own   \n",
       "4              Private                  3.4      Mid-size     Family   \n",
       "...                ...                  ...           ...        ...   \n",
       "404795         Private                  5.0  Large Indian     Rented   \n",
       "404796         Private                  1.9           MNC        Own   \n",
       "404797         Private                  3.2           MNC     Rented   \n",
       "404798         Private                  3.0           MNC        Own   \n",
       "404799         Private                  1.2           MNC     Family   \n",
       "\n",
       "        monthly_rent  ...  existing_loans  current_emi_amount  credit_score  \\\n",
       "0            20000.0  ...             Yes             23700.0         660.0   \n",
       "1                0.0  ...             Yes              4100.0         714.0   \n",
       "2                0.0  ...              No                 0.0         650.0   \n",
       "3                0.0  ...              No                 0.0         685.0   \n",
       "4                0.0  ...              No                 0.0         770.0   \n",
       "...              ...  ...             ...                 ...           ...   \n",
       "404795       10400.0  ...              No                 0.0         649.0   \n",
       "404796           0.0  ...              No                 0.0         712.0   \n",
       "404797        6300.0  ...              No                 0.0         676.0   \n",
       "404798           0.0  ...              No                 0.0         784.0   \n",
       "404799           0.0  ...              No                 0.0         641.0   \n",
       "\n",
       "        bank_balance  emergency_fund             emi_scenario  \\\n",
       "0           303200.0         70200.0        Personal Loan EMI   \n",
       "1            92500.0         26900.0  E-commerce Shopping EMI   \n",
       "2           672100.0        324200.0            Education EMI   \n",
       "3           440900.0        178100.0              Vehicle EMI   \n",
       "4            97300.0         28200.0      Home Appliances EMI   \n",
       "...              ...             ...                      ...   \n",
       "404795       62000.0         32600.0        Personal Loan EMI   \n",
       "404796      142200.0         38100.0        Personal Loan EMI   \n",
       "404797      191600.0         39700.0      Home Appliances EMI   \n",
       "404798      170400.0         45600.0      Home Appliances EMI   \n",
       "404799      214400.0         99400.0      Home Appliances EMI   \n",
       "\n",
       "        requested_amount requested_tenure  emi_eligibility  max_monthly_emi  \n",
       "0               850000.0               15     Not_Eligible            500.0  \n",
       "1               128000.0               19     Not_Eligible            700.0  \n",
       "2               306000.0               16         Eligible          27775.0  \n",
       "3               304000.0               83         Eligible          16170.0  \n",
       "4               252000.0                7     Not_Eligible            500.0  \n",
       "...                  ...              ...              ...              ...  \n",
       "404795          506000.0               47     Not_Eligible            500.0  \n",
       "404796          708000.0               33     Not_Eligible           5200.0  \n",
       "404797           93000.0               21        High_Risk           5665.0  \n",
       "404798          144000.0               36         Eligible          14460.0  \n",
       "404799           77000.0               35         Eligible           8756.0  \n",
       "\n",
       "[404800 rows x 27 columns]>"
      ]
     },
     "execution_count": 4,
     "metadata": {},
     "output_type": "execute_result"
    }
   ],
   "source": [
    "emi.describe"
   ]
  },
  {
   "cell_type": "markdown",
   "id": "153365bd",
   "metadata": {},
   "source": [
    "Check the Datasets Informations."
   ]
  },
  {
   "cell_type": "code",
   "execution_count": 5,
   "id": "2b756170",
   "metadata": {},
   "outputs": [
    {
     "name": "stdout",
     "output_type": "stream",
     "text": [
      "<class 'pandas.core.frame.DataFrame'>\n",
      "RangeIndex: 404800 entries, 0 to 404799\n",
      "Data columns (total 27 columns):\n",
      " #   Column                  Non-Null Count   Dtype  \n",
      "---  ------                  --------------   -----  \n",
      " 0   age                     404800 non-null  object \n",
      " 1   gender                  404800 non-null  object \n",
      " 2   marital_status          404800 non-null  object \n",
      " 3   education               402396 non-null  object \n",
      " 4   monthly_salary          404800 non-null  object \n",
      " 5   employment_type         404800 non-null  object \n",
      " 6   years_of_employment     404800 non-null  float64\n",
      " 7   company_type            404800 non-null  object \n",
      " 8   house_type              404800 non-null  object \n",
      " 9   monthly_rent            402374 non-null  float64\n",
      " 10  family_size             404800 non-null  int64  \n",
      " 11  dependents              404800 non-null  int64  \n",
      " 12  school_fees             404800 non-null  float64\n",
      " 13  college_fees            404800 non-null  float64\n",
      " 14  travel_expenses         404800 non-null  float64\n",
      " 15  groceries_utilities     404800 non-null  float64\n",
      " 16  other_monthly_expenses  404800 non-null  float64\n",
      " 17  existing_loans          404800 non-null  object \n",
      " 18  current_emi_amount      404800 non-null  float64\n",
      " 19  credit_score            402380 non-null  float64\n",
      " 20  bank_balance            402374 non-null  object \n",
      " 21  emergency_fund          402449 non-null  float64\n",
      " 22  emi_scenario            404800 non-null  object \n",
      " 23  requested_amount        404800 non-null  float64\n",
      " 24  requested_tenure        404800 non-null  int64  \n",
      " 25  emi_eligibility         404800 non-null  object \n",
      " 26  max_monthly_emi         404800 non-null  float64\n",
      "dtypes: float64(12), int64(3), object(12)\n",
      "memory usage: 83.4+ MB\n"
     ]
    }
   ],
   "source": [
    "emi.info()"
   ]
  },
  {
   "cell_type": "markdown",
   "id": "be2d01ad",
   "metadata": {},
   "source": [
    "Check the Datasets Columns Name."
   ]
  },
  {
   "cell_type": "code",
   "execution_count": 6,
   "id": "b7c996ec",
   "metadata": {},
   "outputs": [
    {
     "data": {
      "text/plain": [
       "Index(['age', 'gender', 'marital_status', 'education', 'monthly_salary',\n",
       "       'employment_type', 'years_of_employment', 'company_type', 'house_type',\n",
       "       'monthly_rent', 'family_size', 'dependents', 'school_fees',\n",
       "       'college_fees', 'travel_expenses', 'groceries_utilities',\n",
       "       'other_monthly_expenses', 'existing_loans', 'current_emi_amount',\n",
       "       'credit_score', 'bank_balance', 'emergency_fund', 'emi_scenario',\n",
       "       'requested_amount', 'requested_tenure', 'emi_eligibility',\n",
       "       'max_monthly_emi'],\n",
       "      dtype='object')"
      ]
     },
     "execution_count": 6,
     "metadata": {},
     "output_type": "execute_result"
    }
   ],
   "source": [
    "emi.columns"
   ]
  },
  {
   "cell_type": "markdown",
   "id": "948c6413",
   "metadata": {},
   "source": [
    "Change  the Datasets Columns Name Lower Case To Upper Case."
   ]
  },
  {
   "cell_type": "code",
   "execution_count": 7,
   "id": "b9df0337",
   "metadata": {},
   "outputs": [
    {
     "data": {
      "text/plain": [
       "Index(['Age', 'Gender', 'Marital Status', 'Education', 'Monthly Salary',\n",
       "       'Employment Type', 'Years Of Employment', 'Company Type', 'House Type',\n",
       "       'Monthly Rent', 'Family Size', 'Dependents', 'School Fees',\n",
       "       'College Fees', 'Travel Expenses', 'Groceries Utilities',\n",
       "       'Other Monthly Expenses', 'Existing Loans', 'Current Emi Amount',\n",
       "       'Credit Score', 'Bank Balance', 'Emergency Fund', 'Emi Scenario',\n",
       "       'Requested Amount', 'Requested Tenure', 'Emi Eligibility',\n",
       "       'Max Monthly Emi'],\n",
       "      dtype='object')"
      ]
     },
     "execution_count": 7,
     "metadata": {},
     "output_type": "execute_result"
    }
   ],
   "source": [
    "emi.columns = emi.columns.str.replace(\"_\",\" \").str.title()\n",
    "\n",
    "emi.columns"
   ]
  },
  {
   "cell_type": "markdown",
   "id": "9f63d354",
   "metadata": {},
   "source": [
    "Check the Null Values in Data sets."
   ]
  },
  {
   "cell_type": "code",
   "execution_count": 66,
   "id": "c08121e9",
   "metadata": {},
   "outputs": [
    {
     "name": "stdout",
     "output_type": "stream",
     "text": [
      "Education         2404\n",
      "Monthly Rent      2426\n",
      "Credit Score      2420\n",
      "Bank Balance      2426\n",
      "Emergency Fund    2351\n",
      "dtype: int64\n"
     ]
    }
   ],
   "source": [
    "if emi.isnull().values.any():\n",
    "    print(emi.isnull().sum() [emi.isnull().sum() > 0])\n",
    "else:\n",
    "    print(\"No Null Values\")\n"
   ]
  },
  {
   "cell_type": "markdown",
   "id": "e0ebe548",
   "metadata": {},
   "source": [
    "Check the Datasets DataTypes."
   ]
  },
  {
   "cell_type": "code",
   "execution_count": 8,
   "id": "20099350",
   "metadata": {},
   "outputs": [
    {
     "data": {
      "text/plain": [
       "Age                        object\n",
       "Gender                     object\n",
       "Marital Status             object\n",
       "Education                  object\n",
       "Monthly Salary             object\n",
       "Employment Type            object\n",
       "Years Of Employment       float64\n",
       "Company Type               object\n",
       "House Type                 object\n",
       "Monthly Rent              float64\n",
       "Family Size                 int64\n",
       "Dependents                  int64\n",
       "School Fees               float64\n",
       "College Fees              float64\n",
       "Travel Expenses           float64\n",
       "Groceries Utilities       float64\n",
       "Other Monthly Expenses    float64\n",
       "Existing Loans             object\n",
       "Current Emi Amount        float64\n",
       "Credit Score              float64\n",
       "Bank Balance               object\n",
       "Emergency Fund            float64\n",
       "Emi Scenario               object\n",
       "Requested Amount          float64\n",
       "Requested Tenure            int64\n",
       "Emi Eligibility            object\n",
       "Max Monthly Emi           float64\n",
       "dtype: object"
      ]
     },
     "execution_count": 8,
     "metadata": {},
     "output_type": "execute_result"
    }
   ],
   "source": [
    "emi.dtypes"
   ]
  },
  {
   "cell_type": "markdown",
   "id": "f1a8f6ce",
   "metadata": {},
   "source": [
    "Change the Mismatch Datatypes Columns."
   ]
  },
  {
   "cell_type": "code",
   "execution_count": 67,
   "id": "48f89430",
   "metadata": {},
   "outputs": [
    {
     "data": {
      "text/plain": [
       "0    82600.0\n",
       "Name: Monthly Salary, dtype: float64"
      ]
     },
     "execution_count": 67,
     "metadata": {},
     "output_type": "execute_result"
    }
   ],
   "source": [
    "emi['Age'] = pd.to_numeric(emi['Age'] , errors='coerce')\n",
    "emi['Monthly Salary'] = pd.to_numeric(emi['Monthly Salary'], errors='coerce')\n",
    "emi[\"Bank Balance\"] = pd.to_numeric(emi[\"Bank Balance\"], errors='coerce')\n",
    "emi[\"Monthly Salary\"].head(1)"
   ]
  },
  {
   "cell_type": "markdown",
   "id": "e159eb2c",
   "metadata": {},
   "source": [
    "Fill the Null Values use Back Fill or Forward Fill."
   ]
  },
  {
   "cell_type": "code",
   "execution_count": 69,
   "id": "c9fc8380",
   "metadata": {},
   "outputs": [
    {
     "name": "stderr",
     "output_type": "stream",
     "text": [
      "C:\\Users\\saran\\AppData\\Local\\Temp\\ipykernel_16520\\1897095304.py:1: FutureWarning: DataFrame.fillna with 'method' is deprecated and will raise in a future version. Use obj.ffill() or obj.bfill() instead.\n",
      "  emi[[\"Education\", \"Monthly Rent\", \"Credit Score\", \"Bank Balance\", \"Emergency Fund\"]] = emi[[\"Education\", \"Monthly Rent\", \"Credit Score\", \"Bank Balance\", \"Emergency Fund\"]].fillna(method=\"bfill\")\n"
     ]
    }
   ],
   "source": [
    "emi[[\"Education\", \"Monthly Rent\", \"Credit Score\", \"Bank Balance\", \"Emergency Fund\"]] = emi[[\"Education\", \"Monthly Rent\", \"Credit Score\", \"Bank Balance\", \"Emergency Fund\"]].fillna(method=\"bfill\")\n"
   ]
  },
  {
   "cell_type": "code",
   "execution_count": 70,
   "id": "39b0a3c4",
   "metadata": {},
   "outputs": [
    {
     "name": "stderr",
     "output_type": "stream",
     "text": [
      "C:\\Users\\saran\\AppData\\Local\\Temp\\ipykernel_16520\\1056311261.py:1: FutureWarning: DataFrame.fillna with 'method' is deprecated and will raise in a future version. Use obj.ffill() or obj.bfill() instead.\n",
      "  emi[[\"Education\", \"Monthly Rent\", \"Credit Score\", \"Bank Balance\", \"Emergency Fund\"]] = emi[[\"Education\", \"Monthly Rent\", \"Credit Score\", \"Bank Balance\", \"Emergency Fund\"]].fillna(method=\"ffill\")\n"
     ]
    }
   ],
   "source": [
    "emi[[\"Education\", \"Monthly Rent\", \"Credit Score\", \"Bank Balance\", \"Emergency Fund\"]] = emi[[\"Education\", \"Monthly Rent\", \"Credit Score\", \"Bank Balance\", \"Emergency Fund\"]].fillna(method=\"ffill\")"
   ]
  },
  {
   "cell_type": "code",
   "execution_count": 71,
   "id": "8c935ec9",
   "metadata": {},
   "outputs": [],
   "source": [
    "emi[['Age', 'Monthly Salary']] = emi[['Age', 'Monthly Salary']].fillna(emi[['Age', 'Monthly Salary']].mean())"
   ]
  },
  {
   "cell_type": "markdown",
   "id": "84c50adf",
   "metadata": {},
   "source": [
    "After Check the Fill Null values any Null Values there."
   ]
  },
  {
   "cell_type": "code",
   "execution_count": 125,
   "id": "974b7330",
   "metadata": {},
   "outputs": [
    {
     "name": "stdout",
     "output_type": "stream",
     "text": [
      "No Null Values\n"
     ]
    }
   ],
   "source": [
    "if emi.isnull().values.any():\n",
    "    print(emi.isnull().sum() [emi.isnull().sum() > 0])\n",
    "else:\n",
    "    print(\"No Null Values\")"
   ]
  },
  {
   "cell_type": "code",
   "execution_count": 126,
   "id": "910d1465",
   "metadata": {},
   "outputs": [
    {
     "data": {
      "text/plain": [
       "Index(['Age', 'Gender', 'Marital Status', 'Education', 'Monthly Salary',\n",
       "       'Employment Type', 'Years Of Employment', 'Company Type', 'House Type',\n",
       "       'Monthly Rent', 'Family Size', 'Dependents', 'School Fees',\n",
       "       'College Fees', 'Travel Expenses', 'Groceries Utilities',\n",
       "       'Other Monthly Expenses', 'Existing Loans', 'Current Emi Amount',\n",
       "       'Credit Score', 'Bank Balance', 'Emergency Fund', 'Emi Scenario',\n",
       "       'Requested Amount', 'Requested Tenure', 'Emi Eligibility',\n",
       "       'Max Monthly Emi'],\n",
       "      dtype='object')"
      ]
     },
     "execution_count": 126,
     "metadata": {},
     "output_type": "execute_result"
    }
   ],
   "source": [
    "emi.columns"
   ]
  },
  {
   "cell_type": "markdown",
   "id": "d8803055",
   "metadata": {},
   "source": [
    "Save the Cleaned CSV files."
   ]
  },
  {
   "cell_type": "code",
   "execution_count": 132,
   "id": "7e771e2d",
   "metadata": {},
   "outputs": [
    {
     "name": "stdout",
     "output_type": "stream",
     "text": [
      "c:\\Users\\saran\\Desktop\\EMI Predictions\n"
     ]
    }
   ],
   "source": [
    "import os\n",
    "print(os.getcwd())\n"
   ]
  },
  {
   "cell_type": "code",
   "execution_count": 137,
   "id": "b2198897",
   "metadata": {},
   "outputs": [],
   "source": [
    "emi.to_csv(\"EMI Prediction Clean.csv\", index=False)"
   ]
  },
  {
   "cell_type": "code",
   "execution_count": 2,
   "id": "613cc817",
   "metadata": {},
   "outputs": [
    {
     "data": {
      "text/html": [
       "<div>\n",
       "<style scoped>\n",
       "    .dataframe tbody tr th:only-of-type {\n",
       "        vertical-align: middle;\n",
       "    }\n",
       "\n",
       "    .dataframe tbody tr th {\n",
       "        vertical-align: top;\n",
       "    }\n",
       "\n",
       "    .dataframe thead th {\n",
       "        text-align: right;\n",
       "    }\n",
       "</style>\n",
       "<table border=\"1\" class=\"dataframe\">\n",
       "  <thead>\n",
       "    <tr style=\"text-align: right;\">\n",
       "      <th></th>\n",
       "      <th>Age</th>\n",
       "      <th>Gender</th>\n",
       "      <th>Marital Status</th>\n",
       "      <th>Education</th>\n",
       "      <th>Monthly Salary</th>\n",
       "      <th>Employment Type</th>\n",
       "      <th>Years Of Employment</th>\n",
       "      <th>Company Type</th>\n",
       "      <th>House Type</th>\n",
       "      <th>Monthly Rent</th>\n",
       "      <th>...</th>\n",
       "      <th>Existing Loans</th>\n",
       "      <th>Current Emi Amount</th>\n",
       "      <th>Credit Score</th>\n",
       "      <th>Bank Balance</th>\n",
       "      <th>Emergency Fund</th>\n",
       "      <th>Emi Scenario</th>\n",
       "      <th>Requested Amount</th>\n",
       "      <th>Requested Tenure</th>\n",
       "      <th>Emi Eligibility</th>\n",
       "      <th>Max Monthly Emi</th>\n",
       "    </tr>\n",
       "  </thead>\n",
       "  <tbody>\n",
       "    <tr>\n",
       "      <th>0</th>\n",
       "      <td>38.0</td>\n",
       "      <td>Female</td>\n",
       "      <td>Married</td>\n",
       "      <td>Professional</td>\n",
       "      <td>82600.0</td>\n",
       "      <td>Private</td>\n",
       "      <td>0.9</td>\n",
       "      <td>Mid Size</td>\n",
       "      <td>Rented</td>\n",
       "      <td>20000.0</td>\n",
       "      <td>...</td>\n",
       "      <td>Yes</td>\n",
       "      <td>23700.0</td>\n",
       "      <td>660.0</td>\n",
       "      <td>303200.0</td>\n",
       "      <td>70200.0</td>\n",
       "      <td>Personal Loan EMI</td>\n",
       "      <td>850000.0</td>\n",
       "      <td>15</td>\n",
       "      <td>Not Eligible</td>\n",
       "      <td>500.0</td>\n",
       "    </tr>\n",
       "    <tr>\n",
       "      <th>1</th>\n",
       "      <td>38.0</td>\n",
       "      <td>Female</td>\n",
       "      <td>Married</td>\n",
       "      <td>Graduate</td>\n",
       "      <td>21500.0</td>\n",
       "      <td>Private</td>\n",
       "      <td>7.0</td>\n",
       "      <td>MNC</td>\n",
       "      <td>Family</td>\n",
       "      <td>0.0</td>\n",
       "      <td>...</td>\n",
       "      <td>Yes</td>\n",
       "      <td>4100.0</td>\n",
       "      <td>714.0</td>\n",
       "      <td>92500.0</td>\n",
       "      <td>26900.0</td>\n",
       "      <td>E-commerce Shopping EMI</td>\n",
       "      <td>128000.0</td>\n",
       "      <td>19</td>\n",
       "      <td>Not Eligible</td>\n",
       "      <td>700.0</td>\n",
       "    </tr>\n",
       "    <tr>\n",
       "      <th>2</th>\n",
       "      <td>38.0</td>\n",
       "      <td>Male</td>\n",
       "      <td>Married</td>\n",
       "      <td>Professional</td>\n",
       "      <td>86100.0</td>\n",
       "      <td>Private</td>\n",
       "      <td>5.8</td>\n",
       "      <td>Startup</td>\n",
       "      <td>Own</td>\n",
       "      <td>0.0</td>\n",
       "      <td>...</td>\n",
       "      <td>No</td>\n",
       "      <td>0.0</td>\n",
       "      <td>650.0</td>\n",
       "      <td>672100.0</td>\n",
       "      <td>324200.0</td>\n",
       "      <td>Education EMI</td>\n",
       "      <td>306000.0</td>\n",
       "      <td>16</td>\n",
       "      <td>Eligible</td>\n",
       "      <td>27775.0</td>\n",
       "    </tr>\n",
       "    <tr>\n",
       "      <th>3</th>\n",
       "      <td>58.0</td>\n",
       "      <td>Female</td>\n",
       "      <td>Married</td>\n",
       "      <td>High School</td>\n",
       "      <td>66800.0</td>\n",
       "      <td>Private</td>\n",
       "      <td>2.2</td>\n",
       "      <td>Mid Size</td>\n",
       "      <td>Own</td>\n",
       "      <td>0.0</td>\n",
       "      <td>...</td>\n",
       "      <td>No</td>\n",
       "      <td>0.0</td>\n",
       "      <td>685.0</td>\n",
       "      <td>440900.0</td>\n",
       "      <td>178100.0</td>\n",
       "      <td>Vehicle EMI</td>\n",
       "      <td>304000.0</td>\n",
       "      <td>83</td>\n",
       "      <td>Eligible</td>\n",
       "      <td>16170.0</td>\n",
       "    </tr>\n",
       "    <tr>\n",
       "      <th>4</th>\n",
       "      <td>48.0</td>\n",
       "      <td>Female</td>\n",
       "      <td>Married</td>\n",
       "      <td>Professional</td>\n",
       "      <td>57300.0</td>\n",
       "      <td>Private</td>\n",
       "      <td>3.4</td>\n",
       "      <td>Mid Size</td>\n",
       "      <td>Family</td>\n",
       "      <td>0.0</td>\n",
       "      <td>...</td>\n",
       "      <td>No</td>\n",
       "      <td>0.0</td>\n",
       "      <td>770.0</td>\n",
       "      <td>97300.0</td>\n",
       "      <td>28200.0</td>\n",
       "      <td>Home Appliances EMI</td>\n",
       "      <td>252000.0</td>\n",
       "      <td>7</td>\n",
       "      <td>Not Eligible</td>\n",
       "      <td>500.0</td>\n",
       "    </tr>\n",
       "    <tr>\n",
       "      <th>...</th>\n",
       "      <td>...</td>\n",
       "      <td>...</td>\n",
       "      <td>...</td>\n",
       "      <td>...</td>\n",
       "      <td>...</td>\n",
       "      <td>...</td>\n",
       "      <td>...</td>\n",
       "      <td>...</td>\n",
       "      <td>...</td>\n",
       "      <td>...</td>\n",
       "      <td>...</td>\n",
       "      <td>...</td>\n",
       "      <td>...</td>\n",
       "      <td>...</td>\n",
       "      <td>...</td>\n",
       "      <td>...</td>\n",
       "      <td>...</td>\n",
       "      <td>...</td>\n",
       "      <td>...</td>\n",
       "      <td>...</td>\n",
       "      <td>...</td>\n",
       "    </tr>\n",
       "    <tr>\n",
       "      <th>404795</th>\n",
       "      <td>27.0</td>\n",
       "      <td>Male</td>\n",
       "      <td>Married</td>\n",
       "      <td>Graduate</td>\n",
       "      <td>32400.0</td>\n",
       "      <td>Private</td>\n",
       "      <td>5.0</td>\n",
       "      <td>Large Indian</td>\n",
       "      <td>Rented</td>\n",
       "      <td>10400.0</td>\n",
       "      <td>...</td>\n",
       "      <td>No</td>\n",
       "      <td>0.0</td>\n",
       "      <td>649.0</td>\n",
       "      <td>62000.0</td>\n",
       "      <td>32600.0</td>\n",
       "      <td>Personal Loan EMI</td>\n",
       "      <td>506000.0</td>\n",
       "      <td>47</td>\n",
       "      <td>Not Eligible</td>\n",
       "      <td>500.0</td>\n",
       "    </tr>\n",
       "    <tr>\n",
       "      <th>404796</th>\n",
       "      <td>38.0</td>\n",
       "      <td>Male</td>\n",
       "      <td>Married</td>\n",
       "      <td>Post Graduate</td>\n",
       "      <td>49200.0</td>\n",
       "      <td>Private</td>\n",
       "      <td>1.9</td>\n",
       "      <td>MNC</td>\n",
       "      <td>Own</td>\n",
       "      <td>0.0</td>\n",
       "      <td>...</td>\n",
       "      <td>No</td>\n",
       "      <td>0.0</td>\n",
       "      <td>712.0</td>\n",
       "      <td>142200.0</td>\n",
       "      <td>38100.0</td>\n",
       "      <td>Personal Loan EMI</td>\n",
       "      <td>708000.0</td>\n",
       "      <td>33</td>\n",
       "      <td>Not Eligible</td>\n",
       "      <td>5200.0</td>\n",
       "    </tr>\n",
       "    <tr>\n",
       "      <th>404797</th>\n",
       "      <td>32.0</td>\n",
       "      <td>Male</td>\n",
       "      <td>Single</td>\n",
       "      <td>Graduate</td>\n",
       "      <td>25700.0</td>\n",
       "      <td>Private</td>\n",
       "      <td>3.2</td>\n",
       "      <td>MNC</td>\n",
       "      <td>Rented</td>\n",
       "      <td>6300.0</td>\n",
       "      <td>...</td>\n",
       "      <td>No</td>\n",
       "      <td>0.0</td>\n",
       "      <td>676.0</td>\n",
       "      <td>191600.0</td>\n",
       "      <td>39700.0</td>\n",
       "      <td>Home Appliances EMI</td>\n",
       "      <td>93000.0</td>\n",
       "      <td>21</td>\n",
       "      <td>High Risk</td>\n",
       "      <td>5665.0</td>\n",
       "    </tr>\n",
       "    <tr>\n",
       "      <th>404798</th>\n",
       "      <td>48.0</td>\n",
       "      <td>Male</td>\n",
       "      <td>Married</td>\n",
       "      <td>Graduate</td>\n",
       "      <td>47200.0</td>\n",
       "      <td>Private</td>\n",
       "      <td>3.0</td>\n",
       "      <td>MNC</td>\n",
       "      <td>Own</td>\n",
       "      <td>0.0</td>\n",
       "      <td>...</td>\n",
       "      <td>No</td>\n",
       "      <td>0.0</td>\n",
       "      <td>784.0</td>\n",
       "      <td>170400.0</td>\n",
       "      <td>45600.0</td>\n",
       "      <td>Home Appliances EMI</td>\n",
       "      <td>144000.0</td>\n",
       "      <td>36</td>\n",
       "      <td>Eligible</td>\n",
       "      <td>14460.0</td>\n",
       "    </tr>\n",
       "    <tr>\n",
       "      <th>404799</th>\n",
       "      <td>38.0</td>\n",
       "      <td>Female</td>\n",
       "      <td>Married</td>\n",
       "      <td>Graduate</td>\n",
       "      <td>34900.0</td>\n",
       "      <td>Private</td>\n",
       "      <td>1.2</td>\n",
       "      <td>MNC</td>\n",
       "      <td>Family</td>\n",
       "      <td>0.0</td>\n",
       "      <td>...</td>\n",
       "      <td>No</td>\n",
       "      <td>0.0</td>\n",
       "      <td>641.0</td>\n",
       "      <td>214400.0</td>\n",
       "      <td>99400.0</td>\n",
       "      <td>Home Appliances EMI</td>\n",
       "      <td>77000.0</td>\n",
       "      <td>35</td>\n",
       "      <td>Eligible</td>\n",
       "      <td>8756.0</td>\n",
       "    </tr>\n",
       "  </tbody>\n",
       "</table>\n",
       "<p>404800 rows × 27 columns</p>\n",
       "</div>"
      ],
      "text/plain": [
       "         Age  Gender Marital Status      Education  Monthly Salary  \\\n",
       "0       38.0  Female        Married   Professional         82600.0   \n",
       "1       38.0  Female        Married       Graduate         21500.0   \n",
       "2       38.0    Male        Married   Professional         86100.0   \n",
       "3       58.0  Female        Married    High School         66800.0   \n",
       "4       48.0  Female        Married   Professional         57300.0   \n",
       "...      ...     ...            ...            ...             ...   \n",
       "404795  27.0    Male        Married       Graduate         32400.0   \n",
       "404796  38.0    Male        Married  Post Graduate         49200.0   \n",
       "404797  32.0    Male         Single       Graduate         25700.0   \n",
       "404798  48.0    Male        Married       Graduate         47200.0   \n",
       "404799  38.0  Female        Married       Graduate         34900.0   \n",
       "\n",
       "       Employment Type  Years Of Employment  Company Type House Type  \\\n",
       "0              Private                  0.9      Mid Size     Rented   \n",
       "1              Private                  7.0           MNC     Family   \n",
       "2              Private                  5.8       Startup        Own   \n",
       "3              Private                  2.2      Mid Size        Own   \n",
       "4              Private                  3.4      Mid Size     Family   \n",
       "...                ...                  ...           ...        ...   \n",
       "404795         Private                  5.0  Large Indian     Rented   \n",
       "404796         Private                  1.9           MNC        Own   \n",
       "404797         Private                  3.2           MNC     Rented   \n",
       "404798         Private                  3.0           MNC        Own   \n",
       "404799         Private                  1.2           MNC     Family   \n",
       "\n",
       "        Monthly Rent  ...  Existing Loans  Current Emi Amount  Credit Score  \\\n",
       "0            20000.0  ...             Yes             23700.0         660.0   \n",
       "1                0.0  ...             Yes              4100.0         714.0   \n",
       "2                0.0  ...              No                 0.0         650.0   \n",
       "3                0.0  ...              No                 0.0         685.0   \n",
       "4                0.0  ...              No                 0.0         770.0   \n",
       "...              ...  ...             ...                 ...           ...   \n",
       "404795       10400.0  ...              No                 0.0         649.0   \n",
       "404796           0.0  ...              No                 0.0         712.0   \n",
       "404797        6300.0  ...              No                 0.0         676.0   \n",
       "404798           0.0  ...              No                 0.0         784.0   \n",
       "404799           0.0  ...              No                 0.0         641.0   \n",
       "\n",
       "        Bank Balance  Emergency Fund             Emi Scenario  \\\n",
       "0           303200.0         70200.0        Personal Loan EMI   \n",
       "1            92500.0         26900.0  E-commerce Shopping EMI   \n",
       "2           672100.0        324200.0            Education EMI   \n",
       "3           440900.0        178100.0              Vehicle EMI   \n",
       "4            97300.0         28200.0      Home Appliances EMI   \n",
       "...              ...             ...                      ...   \n",
       "404795       62000.0         32600.0        Personal Loan EMI   \n",
       "404796      142200.0         38100.0        Personal Loan EMI   \n",
       "404797      191600.0         39700.0      Home Appliances EMI   \n",
       "404798      170400.0         45600.0      Home Appliances EMI   \n",
       "404799      214400.0         99400.0      Home Appliances EMI   \n",
       "\n",
       "        Requested Amount Requested Tenure  Emi Eligibility  Max Monthly Emi  \n",
       "0               850000.0               15     Not Eligible            500.0  \n",
       "1               128000.0               19     Not Eligible            700.0  \n",
       "2               306000.0               16         Eligible          27775.0  \n",
       "3               304000.0               83         Eligible          16170.0  \n",
       "4               252000.0                7     Not Eligible            500.0  \n",
       "...                  ...              ...              ...              ...  \n",
       "404795          506000.0               47     Not Eligible            500.0  \n",
       "404796          708000.0               33     Not Eligible           5200.0  \n",
       "404797           93000.0               21        High Risk           5665.0  \n",
       "404798          144000.0               36         Eligible          14460.0  \n",
       "404799           77000.0               35         Eligible           8756.0  \n",
       "\n",
       "[404800 rows x 27 columns]"
      ]
     },
     "execution_count": 2,
     "metadata": {},
     "output_type": "execute_result"
    }
   ],
   "source": [
    "import pandas as pd\n",
    "\n",
    "df = pd.read_csv(\"EMI Prediction Clean.csv\")\n",
    "df"
   ]
  },
  {
   "cell_type": "code",
   "execution_count": 3,
   "id": "1b359f71",
   "metadata": {},
   "outputs": [
    {
     "name": "stdout",
     "output_type": "stream",
     "text": [
      "(387532, 27)\n"
     ]
    }
   ],
   "source": [
    "Q1 = df['Max Monthly Emi'].quantile(0.25)\n",
    "Q3 = df['Max Monthly Emi'].quantile(0.75)\n",
    "IQR = Q3 - Q1\n",
    "\n",
    "df_clean = df[~((df['Max Monthly Emi'] < (Q1 - 1.5*IQR)) | (df['Max Monthly Emi'] > (Q3 + 1.5*IQR)))]\n",
    "print(df_clean.shape)\n"
   ]
  },
  {
   "cell_type": "code",
   "execution_count": 4,
   "id": "32ba2f53",
   "metadata": {},
   "outputs": [
    {
     "data": {
      "text/plain": [
       "Index(['Age', 'Gender', 'Marital Status', 'Education', 'Monthly Salary',\n",
       "       'Employment Type', 'Years Of Employment', 'Company Type', 'House Type',\n",
       "       'Monthly Rent', 'Family Size', 'Dependents', 'School Fees',\n",
       "       'College Fees', 'Travel Expenses', 'Groceries Utilities',\n",
       "       'Other Monthly Expenses', 'Existing Loans', 'Current Emi Amount',\n",
       "       'Credit Score', 'Bank Balance', 'Emergency Fund', 'Emi Scenario',\n",
       "       'Requested Amount', 'Requested Tenure', 'Emi Eligibility',\n",
       "       'Max Monthly Emi'],\n",
       "      dtype='object')"
      ]
     },
     "execution_count": 4,
     "metadata": {},
     "output_type": "execute_result"
    }
   ],
   "source": [
    "df_clean.columns"
   ]
  },
  {
   "cell_type": "code",
   "execution_count": 8,
   "id": "9833a152",
   "metadata": {},
   "outputs": [
    {
     "data": {
      "text/plain": [
       "0         2\n",
       "1         1\n",
       "3         4\n",
       "4         3\n",
       "5         3\n",
       "         ..\n",
       "404795    3\n",
       "404796    4\n",
       "404797    0\n",
       "404798    3\n",
       "404799    1\n",
       "Name: Dependents, Length: 387532, dtype: int64"
      ]
     },
     "execution_count": 8,
     "metadata": {},
     "output_type": "execute_result"
    }
   ],
   "source": [
    "df_clean['Dependents']"
   ]
  },
  {
   "cell_type": "code",
   "execution_count": 9,
   "id": "c0f9802d",
   "metadata": {},
   "outputs": [
    {
     "name": "stderr",
     "output_type": "stream",
     "text": [
      "C:\\Users\\saran\\AppData\\Local\\Temp\\ipykernel_18852\\2821709603.py:1: SettingWithCopyWarning: \n",
      "A value is trying to be set on a copy of a slice from a DataFrame\n",
      "\n",
      "See the caveats in the documentation: https://pandas.pydata.org/pandas-docs/stable/user_guide/indexing.html#returning-a-view-versus-a-copy\n",
      "  df_clean.drop(['Dependents', 'School Fees', 'College Fees', 'Travel Expenses', 'Groceries Utilities', 'Emergency Fund', 'Requested Tenure'], axis=1, inplace=True)\n"
     ]
    }
   ],
   "source": [
    "df_clean.drop(['Dependents', 'School Fees', 'College Fees', 'Travel Expenses', 'Groceries Utilities', 'Emergency Fund', 'Requested Tenure'], axis=1, inplace=True)\n"
   ]
  },
  {
   "cell_type": "code",
   "execution_count": 10,
   "id": "40cb516e",
   "metadata": {},
   "outputs": [
    {
     "data": {
      "text/plain": [
       "Index(['Age', 'Gender', 'Marital Status', 'Education', 'Monthly Salary',\n",
       "       'Employment Type', 'Years Of Employment', 'Company Type', 'House Type',\n",
       "       'Monthly Rent', 'Family Size', 'Other Monthly Expenses',\n",
       "       'Existing Loans', 'Current Emi Amount', 'Credit Score', 'Bank Balance',\n",
       "       'Emi Scenario', 'Requested Amount', 'Emi Eligibility',\n",
       "       'Max Monthly Emi'],\n",
       "      dtype='object')"
      ]
     },
     "execution_count": 10,
     "metadata": {},
     "output_type": "execute_result"
    }
   ],
   "source": [
    "df_clean.columns"
   ]
  },
  {
   "cell_type": "code",
   "execution_count": 11,
   "id": "b841f2ab",
   "metadata": {},
   "outputs": [],
   "source": [
    "df_clean.to_csv(\"EMI Prediction1.csv\", index=False)"
   ]
  },
  {
   "cell_type": "code",
   "execution_count": null,
   "id": "6e3dba25",
   "metadata": {},
   "outputs": [],
   "source": [
    "d"
   ]
  }
 ],
 "metadata": {
  "kernelspec": {
   "display_name": "Python 3",
   "language": "python",
   "name": "python3"
  },
  "language_info": {
   "codemirror_mode": {
    "name": "ipython",
    "version": 3
   },
   "file_extension": ".py",
   "mimetype": "text/x-python",
   "name": "python",
   "nbconvert_exporter": "python",
   "pygments_lexer": "ipython3",
   "version": "3.13.5"
  }
 },
 "nbformat": 4,
 "nbformat_minor": 5
}
